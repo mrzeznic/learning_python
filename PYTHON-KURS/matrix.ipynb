{
 "cells": [
  {
   "cell_type": "code",
   "execution_count": null,
   "metadata": {},
   "outputs": [],
   "source": [
    "m1<-matrix(1:9,nrow=3,ncol=3,byrow=TRUE)\n",
    "D1<-data.frame(x1=c(1,3,2,4,5),x2=c(\"Cricket\",\"Football\",\"Basketball\",\"Rugby\",\"Baseball\"))\n",
    "M1ToData<-as.data.frame(M1)"
   ]
  },
  {
   "cell_type": "code",
   "execution_count": null,
   "metadata": {},
   "outputs": [],
   "source": []
  }
 ],
 "metadata": {
  "kernelspec": {
   "display_name": "R",
   "language": "R",
   "name": "ir"
  },
  "language_info": {
   "codemirror_mode": "r",
   "file_extension": ".r",
   "mimetype": "text/x-r-source",
   "name": "R",
   "pygments_lexer": "r",
   "version": "3.4.3"
  }
 },
 "nbformat": 4,
 "nbformat_minor": 2
}
