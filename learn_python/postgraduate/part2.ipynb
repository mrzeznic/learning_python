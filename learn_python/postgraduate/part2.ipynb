{
 "cells": [
  {
   "cell_type": "code",
   "execution_count": 1,
   "metadata": {},
   "outputs": [
    {
     "name": "stdout",
     "output_type": "stream",
     "text": [
      "Podaj imię człowieka \n",
      "Jan\n",
      "Podaj nazwisko człowieka \n",
      "Kowalski\n",
      "Podaj wiek człowieka \n",
      "49\n",
      "Podaj wzrost człowieka \n",
      "190\n",
      "Podaj wagę człowieka \n",
      "60\n"
     ]
    }
   ],
   "source": [
    "imie=input(\"Podaj imię człowieka \\n\")\n",
    "nazwisko=input(\"Podaj nazwisko człowieka \\n\")\n",
    "wiek=input(\"Podaj wiek człowieka \\n\")\n",
    "wzrost=input(\"Podaj wzrost człowieka \\n\")\n",
    "waga=input(\"Podaj wagę człowieka \\n\")"
   ]
  },
  {
   "cell_type": "code",
   "execution_count": 2,
   "metadata": {},
   "outputs": [],
   "source": [
    "lista=[imie,nazwisko,wiek,wzrost,waga]"
   ]
  },
  {
   "cell_type": "code",
   "execution_count": 3,
   "metadata": {},
   "outputs": [
    {
     "name": "stdout",
     "output_type": "stream",
     "text": [
      "['Jan', 'Kowalski', '49', '190', '60']\n",
      "190\n",
      "49\n",
      "Nasz człowiek ma na imię Jan\n"
     ]
    }
   ],
   "source": [
    "print(lista)\n",
    "print(lista[3])\n",
    "print(lista[2])\n",
    "print(\"Nasz człowiek ma na imię {1}\".format(lista[2],lista[0]))"
   ]
  },
  {
   "cell_type": "code",
   "execution_count": 4,
   "metadata": {},
   "outputs": [
    {
     "name": "stdout",
     "output_type": "stream",
     "text": [
      "['Jan', 'Kowalski', '49', '190', '60']\n",
      "Podaj wiek człowieka \n",
      "43\n",
      "['Jan', 'Kowalski', '43', '190', '60']\n"
     ]
    }
   ],
   "source": [
    "print(lista)\n",
    "lista[2]=input(\"Podaj wiek człowieka \\n\")\n",
    "print(lista)"
   ]
  },
  {
   "cell_type": "code",
   "execution_count": 5,
   "metadata": {},
   "outputs": [
    {
     "name": "stdout",
     "output_type": "stream",
     "text": [
      "['Jan', 'Kowalski', '43', '190', '60']\n",
      "['Jan', 'Kowalski', '43', '190', 80]\n"
     ]
    }
   ],
   "source": [
    "print(lista)\n",
    "lista[4]=80\n",
    "print(lista)"
   ]
  },
  {
   "cell_type": "code",
   "execution_count": null,
   "metadata": {},
   "outputs": [],
   "source": []
  }
 ],
 "metadata": {
  "kernelspec": {
   "display_name": "Python 3",
   "language": "python",
   "name": "python3"
  },
  "language_info": {
   "codemirror_mode": {
    "name": "ipython",
    "version": 3
   },
   "file_extension": ".py",
   "mimetype": "text/x-python",
   "name": "python",
   "nbconvert_exporter": "python",
   "pygments_lexer": "ipython3",
   "version": "3.7.1"
  }
 },
 "nbformat": 4,
 "nbformat_minor": 2
}
