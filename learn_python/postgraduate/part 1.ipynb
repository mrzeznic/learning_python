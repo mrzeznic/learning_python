{
 "cells": [
  {
   "cell_type": "code",
   "execution_count": 1,
   "metadata": {},
   "outputs": [
    {
     "name": "stdout",
     "output_type": "stream",
     "text": [
      "Hello World!\n"
     ]
    }
   ],
   "source": [
    "print (\"Hello World!\")"
   ]
  },
  {
   "cell_type": "code",
   "execution_count": 11,
   "metadata": {},
   "outputs": [
    {
     "name": "stdout",
     "output_type": "stream",
     "text": [
      "2\n"
     ]
    }
   ],
   "source": [
    "def simple_math(a,b):\n",
    "    sum = a+b\n",
    "    if sum>2:\n",
    "        return 2\n",
    "    else:\n",
    "        return sum\n",
    "    \n",
    "print (simple_math(1,2)) #na wykładzie podane bez nawiasów czyli dla Python 2.7, Python 3 wymaga dodania nawiasów w funkcji print"
   ]
  },
  {
   "cell_type": "code",
   "execution_count": 12,
   "metadata": {},
   "outputs": [
    {
     "name": "stdout",
     "output_type": "stream",
     "text": [
      "2\n"
     ]
    }
   ],
   "source": [
    "def my_fun():\n",
    "    return 2\n",
    "print (my_fun())"
   ]
  },
  {
   "cell_type": "code",
   "execution_count": 15,
   "metadata": {},
   "outputs": [
    {
     "name": "stdout",
     "output_type": "stream",
     "text": [
      "Nobody Nobody\n",
      "Nobodyexpects the Spanish inquisition\n",
      "None\n"
     ]
    }
   ],
   "source": [
    "def Spanish_Inquisition(some_param):\n",
    "    expect = False\n",
    "    if some_param == 'Nobody':\n",
    "        expect = True\n",
    "    if expect == True:\n",
    "        print (some_param + 'expects the Spanish inquisition')\n",
    "print(Spanish_Inquisition(input('Nobody ')))"
   ]
  },
  {
   "cell_type": "code",
   "execution_count": 16,
   "metadata": {},
   "outputs": [
    {
     "data": {
      "text/plain": [
       "2"
      ]
     },
     "execution_count": 16,
     "metadata": {},
     "output_type": "execute_result"
    }
   ],
   "source": [
    "my_list = [1,2,3,4,5,6,7,8]\n",
    "my_list[1]"
   ]
  },
  {
   "cell_type": "code",
   "execution_count": 17,
   "metadata": {},
   "outputs": [
    {
     "data": {
      "text/plain": [
       "1"
      ]
     },
     "execution_count": 17,
     "metadata": {},
     "output_type": "execute_result"
    }
   ],
   "source": [
    "my_list = [1,2,3,4,5,6,7,8]\n",
    "my_list[0]"
   ]
  },
  {
   "cell_type": "code",
   "execution_count": 18,
   "metadata": {},
   "outputs": [
    {
     "name": "stdout",
     "output_type": "stream",
     "text": [
      "[1, 2, 3, 4, 5, 6, 7, 8, 9]\n"
     ]
    }
   ],
   "source": [
    "my_list = [1,2,3,4,5,6,7,8]\n",
    "my_list.append(9)\n",
    "print(my_list)"
   ]
  },
  {
   "cell_type": "code",
   "execution_count": 19,
   "metadata": {},
   "outputs": [
    {
     "name": "stdout",
     "output_type": "stream",
     "text": [
      "[1, 2, 3, 4, 5, 6, 7, 8, 10, 11]\n"
     ]
    }
   ],
   "source": [
    "my_list = [1,2,3,4,5,6,7,8]\n",
    "my_list.extend([10,11])\n",
    "print(my_list)"
   ]
  },
  {
   "cell_type": "code",
   "execution_count": 20,
   "metadata": {},
   "outputs": [
    {
     "name": "stdout",
     "output_type": "stream",
     "text": [
      "[0, 1, 2, 3, 4, 5, 6, 7, 8]\n"
     ]
    }
   ],
   "source": [
    "my_list = [1,2,3,4,5,6,7,8]\n",
    "my_list.insert(0,0)\n",
    "print(my_list)"
   ]
  },
  {
   "cell_type": "code",
   "execution_count": 21,
   "metadata": {},
   "outputs": [
    {
     "name": "stdout",
     "output_type": "stream",
     "text": [
      "[1, 2, 3, 4, 5, 6, 22, 7, 8]\n"
     ]
    }
   ],
   "source": [
    "my_list = [1,2,3,4,5,6,7,8]\n",
    "my_list.insert(6,22)\n",
    "print(my_list)"
   ]
  },
  {
   "cell_type": "code",
   "execution_count": 22,
   "metadata": {},
   "outputs": [
    {
     "name": "stdout",
     "output_type": "stream",
     "text": [
      "[1, 2, 3, 4, [2, 3], 5, 6, 7, 8]\n"
     ]
    }
   ],
   "source": [
    "my_list = [1,2,3,4,5,6,7,8]\n",
    "my_list.insert(4,[2,3])\n",
    "print(my_list)"
   ]
  },
  {
   "cell_type": "code",
   "execution_count": 23,
   "metadata": {},
   "outputs": [
    {
     "data": {
      "text/plain": [
       "5"
      ]
     },
     "execution_count": 23,
     "metadata": {},
     "output_type": "execute_result"
    }
   ],
   "source": [
    "my_list = [1,2,3,4,5,6,7,8]\n",
    "my_list.pop(4)"
   ]
  },
  {
   "cell_type": "code",
   "execution_count": 24,
   "metadata": {},
   "outputs": [
    {
     "data": {
      "text/plain": [
       "[1, 2, 3, 1, 2, 3]"
      ]
     },
     "execution_count": 24,
     "metadata": {},
     "output_type": "execute_result"
    }
   ],
   "source": [
    "a=[1,2,3]\n",
    "b=[1,2,3]\n",
    "a+b"
   ]
  },
  {
   "cell_type": "code",
   "execution_count": 25,
   "metadata": {},
   "outputs": [
    {
     "data": {
      "text/plain": [
       "(1, 2, 3, 4, 5, 6)"
      ]
     },
     "execution_count": 25,
     "metadata": {},
     "output_type": "execute_result"
    }
   ],
   "source": [
    "my_list = [1,2,3]\n",
    "my_tuple = (4,5,6)\n",
    "#my_list + my_tuple #nie można dodac listy i tuple\n",
    "tuple(my_list) + my_tuple"
   ]
  },
  {
   "cell_type": "code",
   "execution_count": 26,
   "metadata": {},
   "outputs": [
    {
     "ename": "ValueError",
     "evalue": "invalid literal for int() with base 10: 'Ala'",
     "output_type": "error",
     "traceback": [
      "\u001b[0;31m---------------------------------------------------------------------------\u001b[0m",
      "\u001b[0;31mValueError\u001b[0m                                Traceback (most recent call last)",
      "\u001b[0;32m<ipython-input-26-cb0b6fe85e5b>\u001b[0m in \u001b[0;36m<module>\u001b[0;34m()\u001b[0m\n\u001b[1;32m      1\u001b[0m \u001b[0mtxt\u001b[0m \u001b[0;34m=\u001b[0m \u001b[0;34m'Ala'\u001b[0m\u001b[0;34m\u001b[0m\u001b[0m\n\u001b[0;32m----> 2\u001b[0;31m \u001b[0mint\u001b[0m\u001b[0;34m(\u001b[0m\u001b[0mtxt\u001b[0m\u001b[0;34m)\u001b[0m \u001b[0;31m# nie można z tekstu zrobic liczby całkowitej\u001b[0m\u001b[0;34m\u001b[0m\u001b[0m\n\u001b[0m",
      "\u001b[0;31mValueError\u001b[0m: invalid literal for int() with base 10: 'Ala'"
     ]
    }
   ],
   "source": [
    "txt = 'Ala'\n",
    "int(txt) # nie można z tekstu zrobic liczby całkowitej"
   ]
  },
  {
   "cell_type": "code",
   "execution_count": 27,
   "metadata": {},
   "outputs": [
    {
     "data": {
      "text/plain": [
       "1"
      ]
     },
     "execution_count": 27,
     "metadata": {},
     "output_type": "execute_result"
    }
   ],
   "source": [
    "txt = '1'\n",
    "int(txt) # z liczby całkowitej mozna zrobic tekst"
   ]
  },
  {
   "cell_type": "code",
   "execution_count": 28,
   "metadata": {},
   "outputs": [
    {
     "data": {
      "text/plain": [
       "{1, 2}"
      ]
     },
     "execution_count": 28,
     "metadata": {},
     "output_type": "execute_result"
    }
   ],
   "source": [
    "x = set([1,2])\n",
    "x\n"
   ]
  },
  {
   "cell_type": "code",
   "execution_count": 29,
   "metadata": {},
   "outputs": [
    {
     "data": {
      "text/plain": [
       "{'d', 'o', 'r', 'w'}"
      ]
     },
     "execution_count": 29,
     "metadata": {},
     "output_type": "execute_result"
    }
   ],
   "source": [
    "y = set('word')\n",
    "y"
   ]
  },
  {
   "cell_type": "code",
   "execution_count": 41,
   "metadata": {},
   "outputs": [
    {
     "name": "stdout",
     "output_type": "stream",
     "text": [
      "Worker John has 25 years old\n"
     ]
    }
   ],
   "source": [
    "d1 = dict()\n",
    "d2 = ()\n",
    "d3 = {\"worker_name\":'John',\"age\":25}\n",
    "print('Worker {worker_name} has {age} years old'.format(**d3))"
   ]
  },
  {
   "cell_type": "code",
   "execution_count": 42,
   "metadata": {},
   "outputs": [
    {
     "name": "stdout",
     "output_type": "stream",
     "text": [
      "0\n",
      "1\n",
      "2\n",
      "3\n",
      "4\n"
     ]
    }
   ],
   "source": [
    "i=0\n",
    "while (i<5):\n",
    "    print(i)\n",
    "    i=i+1"
   ]
  },
  {
   "cell_type": "code",
   "execution_count": 43,
   "metadata": {},
   "outputs": [
    {
     "name": "stdout",
     "output_type": "stream",
     "text": [
      "listalista\n",
      "a\n",
      "listalistalista\n"
     ]
    }
   ],
   "source": [
    "def my_function(param_1, param_2):\n",
    "    a = param_1*param_2\n",
    "    text = param_2.lower()\n",
    "    return a\n",
    "print (my_function(2,\"lista\"))\n",
    "print (\"a\")\n",
    "print (my_function(3,\"lista\"))"
   ]
  },
  {
   "cell_type": "code",
   "execution_count": 14,
   "metadata": {},
   "outputs": [
    {
     "name": "stdout",
     "output_type": "stream",
     "text": [
      "2\n",
      "3\n"
     ]
    }
   ],
   "source": [
    "global x\n",
    "x=2\n",
    "global xy\n",
    "xy=2\n",
    "def my_function():\n",
    "    return xy\n",
    "print(my_function())\n",
    "def my_function():\n",
    "    xy=3\n",
    "    return xy\n",
    "print(my_function())"
   ]
  },
  {
   "cell_type": "code",
   "execution_count": 31,
   "metadata": {},
   "outputs": [
    {
     "name": "stdout",
     "output_type": "stream",
     "text": [
      "3\n",
      "ranndom\n",
      "b\n",
      "3\n"
     ]
    }
   ],
   "source": [
    "def my_generator(a):\n",
    "    yield a\n",
    "    print (\"ranndom\")\n",
    "    yield (\"b\")\n",
    "    \n",
    "def my_function(a):\n",
    "    for num in range (a):\n",
    "        return a\n",
    "    return \"b\"\n",
    "\n",
    "gen = my_generator(3)\n",
    "print (next(gen))\n",
    "print (next(gen))\n",
    "\n",
    "my_f = my_function(3)\n",
    "print (my_f)"
   ]
  },
  {
   "cell_type": "code",
   "execution_count": 30,
   "metadata": {},
   "outputs": [
    {
     "name": "stdout",
     "output_type": "stream",
     "text": [
      "0\n",
      "1\n",
      "2\n"
     ]
    }
   ],
   "source": [
    "a=2\n",
    "def my_generator(a):\n",
    "    yield a\n",
    "    \n",
    "for x in range(0,3):\n",
    "    gen = my_generator(x)\n",
    "    print(next(gen))"
   ]
  },
  {
   "cell_type": "code",
   "execution_count": 33,
   "metadata": {},
   "outputs": [],
   "source": [
    "class empty():\n",
    "    pass\n",
    "class human():\n",
    "    def name(self,param):\n",
    "        return param\n",
    "    "
   ]
  },
  {
   "cell_type": "code",
   "execution_count": 37,
   "metadata": {},
   "outputs": [
    {
     "name": "stdout",
     "output_type": "stream",
     "text": [
      "male\n"
     ]
    }
   ],
   "source": [
    "class human():\n",
    "    def _init_(self):\n",
    "        self.gender=\"\"\n",
    "        self.pesel=\"\"\n",
    "        return None\n",
    "    def name(self,param):\n",
    "        return param\n",
    "    \n",
    "    new_human = human()\n",
    "    y = new_human.name(\"Przemek\")\n",
    "    new_human.gender = \"male\"\n",
    "    print (new_human.gender)    "
   ]
  },
  {
   "cell_type": "code",
   "execution_count": 41,
   "metadata": {},
   "outputs": [
    {
     "ename": "AttributeError",
     "evalue": "'human' object has no attribute 'wiek'",
     "output_type": "error",
     "traceback": [
      "\u001b[1;31m---------------------------------------------------------------------------\u001b[0m",
      "\u001b[1;31mAttributeError\u001b[0m                            Traceback (most recent call last)",
      "\u001b[1;32m<ipython-input-41-3c247b82157d>\u001b[0m in \u001b[0;36m<module>\u001b[1;34m()\u001b[0m\n\u001b[0;32m      5\u001b[0m         \u001b[1;32mreturn\u001b[0m \u001b[0ma\u001b[0m\u001b[1;33m\u001b[0m\u001b[0m\n\u001b[0;32m      6\u001b[0m \u001b[0mhuman_1\u001b[0m \u001b[1;33m=\u001b[0m \u001b[0mhuman\u001b[0m\u001b[1;33m(\u001b[0m\u001b[1;33m)\u001b[0m\u001b[1;33m\u001b[0m\u001b[0m\n\u001b[1;32m----> 7\u001b[1;33m \u001b[0mhuman_1\u001b[0m\u001b[1;33m.\u001b[0m\u001b[0mwiek\u001b[0m\u001b[1;33m\u001b[0m\u001b[0m\n\u001b[0m\u001b[0;32m      8\u001b[0m \u001b[0mhuman_1\u001b[0m\u001b[1;33m.\u001b[0m\u001b[0mgender\u001b[0m \u001b[1;33m=\u001b[0m \u001b[1;34m\"male\"\u001b[0m\u001b[1;33m\u001b[0m\u001b[0m\n\u001b[0;32m      9\u001b[0m \u001b[0mhuman_1\u001b[0m\u001b[1;33m.\u001b[0m\u001b[0mgender\u001b[0m\u001b[1;33m\u001b[0m\u001b[0m\n",
      "\u001b[1;31mAttributeError\u001b[0m: 'human' object has no attribute 'wiek'"
     ]
    }
   ],
   "source": [
    "class human():\n",
    "    def _init_ (self):\n",
    "        self.wiek = 18\n",
    "    def name(a):\n",
    "        return a\n",
    "human_1 = human()\n",
    "human_1.wiek\n",
    "human_1.gender = \"male\"\n",
    "human_1.gender\n",
    "human_2 = human()\n",
    "human_2.wiek\n",
    "human_2.gender\n",
    "human_2.wiek = 20\n",
    "human_2.wiek\n",
    "\n",
    "human.oko = \"red\"\n",
    "human_1.oko\n",
    "\n",
    "human_1.wiek_n = human_1.wiek+2\n",
    "human_1.wiek_n\n",
    "\n"
   ]
  },
  {
   "cell_type": "code",
   "execution_count": 43,
   "metadata": {},
   "outputs": [],
   "source": [
    "class human ():\n",
    "    def _init_(self):\n",
    "        self.wiek = 18\n",
    "        self.wiek_2 = 2* self.wiek\n",
    "    def name(a):\n",
    "        return a\n",
    "    \n",
    "human_3=human()\n",
    "human_3.wiek_2"
   ]
  },
  {
   "cell_type": "code",
   "execution_count": 50,
   "metadata": {},
   "outputs": [
    {
     "data": {
      "text/plain": [
       "<bound method ptak.imie of <__main__.dziobak object at 0x00000193EEE36D30>>"
      ]
     },
     "execution_count": 50,
     "metadata": {},
     "output_type": "execute_result"
    }
   ],
   "source": [
    "class ssak():\n",
    "    def _init_(self):\n",
    "        return none\n",
    "    def imie():\n",
    "        print (\"ma futro\")\n",
    "        \n",
    "class ptak():\n",
    "    def _init_(self):\n",
    "        return none\n",
    "    def imie():\n",
    "        print (\"ma dziob\")\n",
    "        \n",
    "class dziobak(ssak, ptak):\n",
    "    def _init_(self):\n",
    "        return none\n",
    "\n",
    "new_dziobak = dziobak()\n",
    "new_dziobak.imie\n",
    "\n",
    "class dziobak(ptak, ssak):\n",
    "    def _init_(self):\n",
    "        return none\n",
    "new_dziobak = dziobak ()\n",
    "new_dziobak.imie"
   ]
  },
  {
   "cell_type": "code",
   "execution_count": 51,
   "metadata": {},
   "outputs": [
    {
     "ename": "ImportError",
     "evalue": "No module named 'POS_tagger'",
     "output_type": "error",
     "traceback": [
      "\u001b[1;31m---------------------------------------------------------------------------\u001b[0m",
      "\u001b[1;31mImportError\u001b[0m                               Traceback (most recent call last)",
      "\u001b[1;32m<ipython-input-51-fb7183da4ae7>\u001b[0m in \u001b[0;36m<module>\u001b[1;34m()\u001b[0m\n\u001b[1;32m----> 1\u001b[1;33m \u001b[1;32mimport\u001b[0m \u001b[0mPOS_tagger\u001b[0m\u001b[1;33m\u001b[0m\u001b[0m\n\u001b[0m\u001b[0;32m      2\u001b[0m \u001b[1;32mimport\u001b[0m \u001b[0mnltk\u001b[0m\u001b[1;33m\u001b[0m\u001b[0m\n\u001b[0;32m      3\u001b[0m \u001b[1;32mimport\u001b[0m \u001b[0mmany_stop_words\u001b[0m\u001b[1;33m\u001b[0m\u001b[0m\n",
      "\u001b[1;31mImportError\u001b[0m: No module named 'POS_tagger'"
     ]
    }
   ],
   "source": [
    "import POS_tagger\n",
    "import nltk\n",
    "import many_stop_words\n"
   ]
  },
  {
   "cell_type": "code",
   "execution_count": 54,
   "metadata": {},
   "outputs": [
    {
     "name": "stdout",
     "output_type": "stream",
     "text": [
      "ups!\n"
     ]
    }
   ],
   "source": [
    "a=2\n",
    "b=0\n",
    "try:\n",
    "    a/b\n",
    "except:\n",
    "    print (\"ups!\")"
   ]
  },
  {
   "cell_type": "code",
   "execution_count": 57,
   "metadata": {},
   "outputs": [
    {
     "name": "stdout",
     "output_type": "stream",
     "text": [
      "0\n",
      "1\n",
      "2\n",
      "3\n",
      "4\n",
      "5\n",
      "6\n",
      "I just divided by zero\n",
      "7\n",
      "I just divided by zero\n",
      "8\n",
      "I just divided by zero\n",
      "9\n",
      "I just divided by zero\n"
     ]
    }
   ],
   "source": [
    "for x in range(10):\n",
    "    try:\n",
    "        print(x)\n",
    "        if x>5:\n",
    "            a/b\n",
    "    except:\n",
    "        print (\"I just divided by zero\") ##bez try i except wyrzuca nas na pierwszym error"
   ]
  },
  {
   "cell_type": "code",
   "execution_count": 58,
   "metadata": {},
   "outputs": [
    {
     "ename": "SyntaxError",
     "evalue": "invalid syntax (<ipython-input-58-64bff69f6ee7>, line 3)",
     "output_type": "error",
     "traceback": [
      "\u001b[1;36m  File \u001b[1;32m\"<ipython-input-58-64bff69f6ee7>\"\u001b[1;36m, line \u001b[1;32m3\u001b[0m\n\u001b[1;33m    except ZaroDivisionError: #jeżeli wyjatek wystapi\u001b[0m\n\u001b[1;37m         ^\u001b[0m\n\u001b[1;31mSyntaxError\u001b[0m\u001b[1;31m:\u001b[0m invalid syntax\n"
     ]
    }
   ],
   "source": [
    "try:\n",
    "    print (\"do stuff\")\n",
    "    except ZaroDivisionError: #jeżeli wyjatek wystapi\n",
    "        print (\"do stuff if exception occurs\")\n",
    "    else: #jezeli zaden wyjatek nie nastapił\n",
    "        print(\"what happens if on exceptions occur\")\n",
    "    finally:\n",
    "        print(\"what happens always\")"
   ]
  },
  {
   "cell_type": "code",
   "execution_count": 60,
   "metadata": {},
   "outputs": [
    {
     "ename": "SyntaxError",
     "evalue": "default 'except:' must be last (<ipython-input-60-fa3e79bb4333>, line 5)",
     "output_type": "error",
     "traceback": [
      "\u001b[1;36m  File \u001b[1;32m\"<ipython-input-60-fa3e79bb4333>\"\u001b[1;36m, line \u001b[1;32m5\u001b[0m\n\u001b[1;33m    a/b\u001b[0m\n\u001b[1;37m     ^\u001b[0m\n\u001b[1;31mSyntaxError\u001b[0m\u001b[1;31m:\u001b[0m default 'except:' must be last\n"
     ]
    }
   ],
   "source": [
    "for x in range(10):\n",
    "    try:\n",
    "        print(x)\n",
    "        if x>5:\n",
    "            a/b\n",
    "    except:\n",
    "        print (\"I just divided by zero\") ##bez try i except wyrzuca nas na pierwszym error\n",
    "    except:\n",
    "        print(\"haha\") #najbardziej ogolny except musi byc na górze"
   ]
  },
  {
   "cell_type": "code",
   "execution_count": 61,
   "metadata": {},
   "outputs": [
    {
     "ename": "FileNotFoundError",
     "evalue": "[Errno 2] No such file or directory: 'Z:\\\\SNA_Lab_1.txt'",
     "output_type": "error",
     "traceback": [
      "\u001b[1;31m---------------------------------------------------------------------------\u001b[0m",
      "\u001b[1;31mFileNotFoundError\u001b[0m                         Traceback (most recent call last)",
      "\u001b[1;32m<ipython-input-61-bf3a61c44eb6>\u001b[0m in \u001b[0;36m<module>\u001b[1;34m()\u001b[0m\n\u001b[0;32m      1\u001b[0m \u001b[1;31m# my_file = open('my_text.txt','r')\u001b[0m\u001b[1;33m\u001b[0m\u001b[1;33m\u001b[0m\u001b[0m\n\u001b[1;32m----> 2\u001b[1;33m \u001b[0mmy_file\u001b[0m \u001b[1;33m=\u001b[0m \u001b[0mopen\u001b[0m\u001b[1;33m(\u001b[0m\u001b[1;34m'Z:\\\\SNA_Lab_1.txt'\u001b[0m\u001b[1;33m,\u001b[0m\u001b[1;34m'r'\u001b[0m\u001b[1;33m)\u001b[0m \u001b[1;31m#informacja że plik jest otwarty\u001b[0m\u001b[1;33m\u001b[0m\u001b[0m\n\u001b[0m\u001b[0;32m      3\u001b[0m \u001b[1;33m\u001b[0m\u001b[0m\n\u001b[0;32m      4\u001b[0m \u001b[0mmy_file\u001b[0m\u001b[1;33m.\u001b[0m\u001b[0mread\u001b[0m\u001b[1;33m(\u001b[0m\u001b[1;33m)\u001b[0m\u001b[1;33m\u001b[0m\u001b[0m\n\u001b[0;32m      5\u001b[0m \u001b[1;33m\u001b[0m\u001b[0m\n",
      "\u001b[1;31mFileNotFoundError\u001b[0m: [Errno 2] No such file or directory: 'Z:\\\\SNA_Lab_1.txt'"
     ]
    }
   ],
   "source": [
    "# my_file = open('my_text.txt','r')\n",
    "my_file = open('Z:\\\\SNA_Lab_1.txt','r') #informacja że plik jest otwarty\n",
    "\n",
    "my_file.read()\n",
    "\n",
    "my_file.read() #tutaj nie bedzie już nic zwrócone\n",
    "my_file.close() #zamykamy plik\n",
    "my_doc=my_file.read()\n",
    "my_doc\n",
    "my_file.close()#zamykamy plik odczytu po zczytaniu jego zawartości, plik przypisany do my_doc pozstaje możliwy do odczytu\n"
   ]
  }
 ],
 "metadata": {
  "kernelspec": {
   "display_name": "Python 3",
   "language": "python",
   "name": "python3"
  },
  "language_info": {
   "codemirror_mode": {
    "name": "ipython",
    "version": 3
   },
   "file_extension": ".py",
   "mimetype": "text/x-python",
   "name": "python",
   "nbconvert_exporter": "python",
   "pygments_lexer": "ipython3",
   "version": "3.7.1"
  }
 },
 "nbformat": 4,
 "nbformat_minor": 2
}
